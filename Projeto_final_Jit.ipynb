{
 "cells": [
  {
   "cell_type": "markdown",
   "metadata": {},
   "source": [
    "# Projeto Final\n",
    "\n",
    "## Reconhecimento de convicção através da fala para suporte ao ensino\n",
    "\n",
    "Disciplina: Computação Afetiva - IA369Y\n",
    "\n",
    "Prof. Paula D. P. Costa\n",
    "\n",
    "\n",
    "Alunos:\n",
    "\n",
    "    Diego Garrido\n",
    "    Fernanda Ferreira\n",
    "    Ricardo Keigo"
   ]
  },
  {
   "cell_type": "code",
   "execution_count": 1,
   "metadata": {},
   "outputs": [
    {
     "name": "stderr",
     "output_type": "stream",
     "text": [
      "/home/fernanda/anaconda3/lib/python3.6/site-packages/sklearn/cross_validation.py:41: DeprecationWarning: This module was deprecated in version 0.18 in favor of the model_selection module into which all the refactored classes and functions are moved. Also note that the interface of the new CV iterators are different from that of this module. This module will be removed in 0.20.\n",
      "  \"This module will be removed in 0.20.\", DeprecationWarning)\n"
     ]
    }
   ],
   "source": [
    "%matplotlib inline\n",
    "import matplotlib.pyplot as plt\n",
    "import glob\n",
    "#from scipy.io.wavfile import read\n",
    "import librosa\n",
    "from librosa import display\n",
    "import sklearn\n",
    "#from sklearn import svm\n",
    "from sklearn import metrics\n",
    "from sklearn.cross_validation import train_test_split\n",
    "#from sklearn.model_selection import StratifiedKFold, train_test_split\n",
    "#from sklearn.cross_validation import StratifiedKFold\n",
    "import numpy as np\n",
    "from hmmlearn.hmm import GaussianHMM, MultinomialHMM\n",
    "import re"
   ]
  },
  {
   "cell_type": "code",
   "execution_count": 2,
   "metadata": {},
   "outputs": [],
   "source": [
    "def JitterAbs(pf): # período fundamental\n",
    "    n = len(pf)\n",
    "    sum1 = 0\n",
    "    for i in range(n):\n",
    "        if i > 0:\n",
    "            sum1 = sum1 + abs(pf[i-1] - pf[i])\n",
    "    sum1 = sum1 / (float(n - 1))\n",
    "    return sum1\n",
    "\n",
    "def JitterRatio(pf): #taxa entre o período fundamenta e a media dos periodos\n",
    "    n = len(pf)\n",
    "    sum1 = 0\n",
    "    sum2 = 0\n",
    "    for i in range(n):\n",
    "        if i > 0:\n",
    "            sum1 = sum1 + abs(pf[i-1] - pf[i])\n",
    "        sum2 = sum2 + pf[i]\n",
    "    sum1 = sum1 / (float(n - 1))\n",
    "    sum2 = sum2 / (float(n))\n",
    "    jit = (sum1/sum2)*1000\n",
    "    #print jit\n",
    "    return jit\n",
    "\n",
    "def t0_acc(x):\n",
    "    \"\"\"Retorna o periodo fundamental de x, em amostras e os todos os periodos em amostras\"\"\"\n",
    "    X = np.abs(np.fft.fft(x))\n",
    "    r = np.real(np.fft.ifft(X*X))\n",
    "    #print (int(len(r)/2))\n",
    "    r2 = np.zeros(int(len(r)/2))\n",
    "    for n in range(len(r2)):\n",
    "        r2[n] = r[n]-r[n//2]\n",
    "    r2 *= np.linspace(1, 0, len(r2))\n",
    "    t0 = np.argmax(r2)\n",
    "    p = []\n",
    "    for i in range(0, len(x), t0):\n",
    "        if i>0:\n",
    "            p.append(i)\n",
    "    return t0, p"
   ]
  },
  {
   "cell_type": "code",
   "execution_count": 3,
   "metadata": {},
   "outputs": [],
   "source": [
    "datas_cer = glob.glob('audios_projeto_IA369Y/certeza/*.ogg')\n",
    "datas_inc = glob.glob('audios_projeto_IA369Y/incerteza/*.ogg')"
   ]
  },
  {
   "cell_type": "code",
   "execution_count": 4,
   "metadata": {},
   "outputs": [],
   "source": [
    "def jitters(datas):\n",
    "    data_t0_list =[]\n",
    "    data_p_list = []\n",
    "    data_jitabs_list = []\n",
    "    data_jitrat_list = []\n",
    "\n",
    "    for file in sorted(datas):\n",
    "        #input(file)\n",
    "        audio, fs = librosa.core.load(file, sr=44100, mono=True)\n",
    "        data_t0, data_p = t0_acc(audio)\n",
    "        data_jitabs = JitterAbs(data_p)\n",
    "        data_jitrat = JitterRatio(data_p)\n",
    "        data_t0_list.append(data_t0)\n",
    "        data_p_list.append(data_p)\n",
    "        data_jitabs_list.append(data_jitabs)\n",
    "        data_jitrat_list.append(data_jitrat)\n",
    "    return data_jitrat_list, data_p"
   ]
  },
  {
   "cell_type": "code",
   "execution_count": 5,
   "metadata": {},
   "outputs": [
    {
     "name": "stdout",
     "output_type": "stream",
     "text": [
      "[0.7196833393306944, 2.7472527472527473, 4.47427293064877, 2.758620689655172, 1.2618296529968456, 4.975124378109452, 10.471204188481677, 5.1020408163265305, 6.41025641025641, 1.3812154696132597, 1.8298261665141813, 2.155172413793103, 1.6051364365971108, 1.658374792703151, 2.7777777777777777, 1.8298261665141813, 1.243008079552517, 0.7945967421533572, 0.757862826828344, 4.830917874396135, 1.1574074074074074, 7.604562737642586, 0.7125044531528322, 2.306805074971165, 2.6143790849673203, 1.2820512820512822, 1.1337868480725624, 0.9242144177449169, 1.146131805157593, 1.0587612493382743, 2.509410288582183, 1.0934937124111537, 2.2396416573348263, 1.3774104683195594, 8.0, 1.9249278152069298, 1.6750418760469012]\n",
      "[0.7867820613690008, 5.681818181818182, 2.1164021164021167, 5.698005698005698, 1.7123287671232876, 11.76470588235294, 1.5163002274450341, 1.486988847583643, 2.457002457002457, 1.160092807424594, 1.0346611484738748, 7.326007326007326, 1.7528483786152498, 1.7271157167530224, 0.888494002665482, 2.932551319648094, 2.079002079002079, 1.28783000643915, 1.6273393002441008, 4.9504950495049505, 2.328288707799767, 2.254791431792559, 0.5242463958060288, 2.285714285714286, 0.2775850104094379, 1.2277470841006752, 3.766478342749529, 2.242152466367713, 1.465201465201465, 0.7977662544874351, 1.8993352326685662, 2.254791431792559, 1.443001443001443, 3.6968576709796674, 9.00900900900901, 1.4204545454545454, 1.1019283746556472]\n"
     ]
    }
   ],
   "source": [
    "d_jitrat_cer, d_p_cer = jitters(datas_cer)\n",
    "d_jitrat_inc, d_p_inc = jitters(datas_inc)\n",
    "\n",
    "#print (type(d_jitrat_cer))\n",
    "print (d_jitrat_cer)\n",
    "print (d_jitrat_inc)\n",
    "#print (d_p_cer)"
   ]
  },
  {
   "cell_type": "code",
   "execution_count": 6,
   "metadata": {},
   "outputs": [
    {
     "name": "stdout",
     "output_type": "stream",
     "text": [
      "Caracteristicas incerteza: \n",
      " [[0.7867820613690008], [5.681818181818182], [2.1164021164021167], [5.698005698005698], [1.7123287671232876], [11.76470588235294], [1.5163002274450341], [1.486988847583643], [2.457002457002457], [1.160092807424594], [1.0346611484738748], [7.326007326007326], [1.7528483786152498], [1.7271157167530224], [0.888494002665482], [2.932551319648094], [2.079002079002079], [1.28783000643915], [1.6273393002441008], [4.9504950495049505], [2.328288707799767], [2.254791431792559], [0.5242463958060288], [2.285714285714286], [0.2775850104094379], [1.2277470841006752], [3.766478342749529], [2.242152466367713], [1.465201465201465], [0.7977662544874351], [1.8993352326685662], [2.254791431792559], [1.443001443001443], [3.6968576709796674], [9.00900900900901], [1.4204545454545454], [1.1019283746556472]] \n",
      "\n",
      "Caracteristicas certeza: \n",
      " [[0.7196833393306944], [2.7472527472527473], [4.47427293064877], [2.758620689655172], [1.2618296529968456], [4.975124378109452], [10.471204188481677], [5.1020408163265305], [6.41025641025641], [1.3812154696132597], [1.8298261665141813], [2.155172413793103], [1.6051364365971108], [1.658374792703151], [2.7777777777777777], [1.8298261665141813], [1.243008079552517], [0.7945967421533572], [0.757862826828344], [4.830917874396135], [1.1574074074074074], [7.604562737642586], [0.7125044531528322], [2.306805074971165], [2.6143790849673203], [1.2820512820512822], [1.1337868480725624], [0.9242144177449169], [1.146131805157593], [1.0587612493382743], [2.509410288582183], [1.0934937124111537], [2.2396416573348263], [1.3774104683195594], [8.0], [1.9249278152069298], [1.6750418760469012]]\n"
     ]
    }
   ],
   "source": [
    "#features_cer = np.array(d_jitrat_cer).reshape(1, -1)\n",
    "#features_inc = np.array(d_jitrat_inc).reshape(1, -1)\n",
    "\n",
    "#feature_all = np.hstack(features_cer, features_inc)\n",
    "#print (feature_all.shape)\n",
    "#lenghts = len(d_jitrat_inc)  \n",
    "#print (lenghts)\n",
    "features_cer = []\n",
    "for n in d_jitrat_cer:\n",
    "    features_cer.append([n])\n",
    "    \n",
    "features_inc = []\n",
    "for n in d_jitrat_inc:\n",
    "    features_inc.append([n])\n",
    "    \n",
    "#lenght_c = np.array(len(features_cer))\n",
    "#lenght_i = np.array(len(features_inc))\n",
    "\n",
    "#print (type(lenght_c))\n",
    "    \n",
    "print (\"Caracteristicas incerteza: \\n\", features_inc, \"\\n\")\n",
    "print (\"Caracteristicas certeza: \\n\", features_cer)\n",
    "\n",
    "#X1 = [[0.5], [1.0], [-1.0], [0.42], [0.24]]"
   ]
  },
  {
   "cell_type": "markdown",
   "metadata": {},
   "source": [
    "### Implementação do HMM"
   ]
  },
  {
   "cell_type": "code",
   "execution_count": 7,
   "metadata": {},
   "outputs": [
    {
     "data": {
      "text/plain": [
       "GaussianHMM(algorithm='viterbi', covariance_type='diag', covars_prior=0.01,\n",
       "      covars_weight=1, init_params='stmc', means_prior=0, means_weight=0,\n",
       "      min_covar=0.001, n_components=3, n_iter=50, params='stmc',\n",
       "      random_state=None, startprob_prior=1.0, tol=0.01, transmat_prior=1.0,\n",
       "      verbose=False)"
      ]
     },
     "execution_count": 7,
     "metadata": {},
     "output_type": "execute_result"
    }
   ],
   "source": [
    "import warnings\n",
    "warnings.filterwarnings('ignore')\n",
    "\n",
    "model1 = GaussianHMM(n_components=3, covariance_type='diag', n_iter=50)\n",
    "#Parâmetros que determina a topologia left-right\n",
    "#model.startprob_ = np.array([1.0, 0.0, 0.0])#, 0.0, 0.0, 0.0, 0.0, 0.0, 0.0, 0.0]) # len(stratprob) = n_components\n",
    "#model.transmat_ = np.array([[0.5, 0.5, 0.0],\n",
    "                           # [0.0, 0.5, 0.5],\n",
    "                           # [0.0, 0.0, 1.0]])\n",
    "model1.fit(features_cer)\n",
    "#model1.fit(features_cer)"
   ]
  },
  {
   "cell_type": "code",
   "execution_count": 17,
   "metadata": {},
   "outputs": [
    {
     "data": {
      "text/plain": [
       "ConvergenceMonitor(history=[-57.335252308821396, -57.33230973369023], iter=15,\n",
       "          n_iter=50, tol=0.01, verbose=False)"
      ]
     },
     "execution_count": 17,
     "metadata": {},
     "output_type": "execute_result"
    }
   ],
   "source": [
    "model1.monitor_\n",
    "#model1.monitor_.converged"
   ]
  },
  {
   "cell_type": "code",
   "execution_count": 9,
   "metadata": {},
   "outputs": [
    {
     "data": {
      "text/plain": [
       "GaussianHMM(algorithm='viterbi', covariance_type='diag', covars_prior=0.01,\n",
       "      covars_weight=1, init_params='stmc', means_prior=0, means_weight=0,\n",
       "      min_covar=0.001, n_components=3, n_iter=50, params='stmc',\n",
       "      random_state=None, startprob_prior=1.0, tol=0.01, transmat_prior=1.0,\n",
       "      verbose=False)"
      ]
     },
     "execution_count": 9,
     "metadata": {},
     "output_type": "execute_result"
    }
   ],
   "source": [
    "model2 = GaussianHMM(n_components=3, covariance_type='diag', n_iter=50)\n",
    "#Parâmetros que determina a topologia left-right\n",
    "#model.startprob_ = np.array([1.0, 0.0, 0.0])#, 0.0, 0.0, 0.0, 0.0, 0.0, 0.0, 0.0]) # len(stratprob) = n_components\n",
    "#model.transmat_ = np.array([[0.5, 0.5, 0.0],\n",
    "                           # [0.0, 0.5, 0.5],\n",
    "                           # [0.0, 0.0, 1.0]])\n",
    "\n",
    "model2.fit(features_inc)"
   ]
  },
  {
   "cell_type": "code",
   "execution_count": 19,
   "metadata": {},
   "outputs": [
    {
     "data": {
      "text/plain": [
       "ConvergenceMonitor(history=[-61.22299585672439, -61.21511190915112], iter=15,\n",
       "          n_iter=50, tol=0.01, verbose=False)"
      ]
     },
     "execution_count": 19,
     "metadata": {},
     "output_type": "execute_result"
    }
   ],
   "source": [
    "model2.monitor_\n",
    "#model2.monitor_.converged"
   ]
  },
  {
   "cell_type": "code",
   "execution_count": 22,
   "metadata": {},
   "outputs": [
    {
     "data": {
      "image/png": "[encoded data removed]",
      "text/plain": [
       "<Figure size 1080x360 with 2 Axes>"
      ]
     },
     "metadata": {},
     "output_type": "display_data"
    }
   ],
   "source": [
    "# Exemplo dos áudios quando o aluno tem certeza ou incerteza.\n",
    "#s_cer, sr_cer = librosa.load('audios_projeto_IA369Y/I20/I20questao13.ogg')\n",
    "#s_inc, sr_inc = librosa.load('audios_projeto_IA369Y/I20/I20questao11.ogg')\n",
    "s_cer, sr_cer = librosa.load('audios_projeto_IA369Y/certeza/I22questao13.ogg')\n",
    "s_inc, sr_inc = librosa.load('audios_projeto_IA369Y/incerteza/I22questao11.ogg')\n",
    "\n",
    "fig, ax = plt.subplots(1, 2, figsize=(15, 5))\n",
    "ax[0].plot(s_cer)\n",
    "ax[0].set_title('Certeza')\n",
    "ax[1].plot(s_inc)\n",
    "ax[1].set_title('Incerteza')\n",
    "plt.show()"
   ]
  },
  {
   "cell_type": "code",
   "execution_count": 23,
   "metadata": {},
   "outputs": [
    {
     "name": "stdout",
     "output_type": "stream",
     "text": [
      "50 48\n",
      "1.7271157167530224\n",
      "1.6920473773265652\n"
     ]
    }
   ],
   "source": [
    "s_cer_t0, s_cer_p = t0_acc(s_cer)\n",
    "s_inc_t0, s_inc_p = t0_acc(s_inc)\n",
    "print (s_cer_t0, s_inc_t0)\n",
    "#print (s_cer_p)\n",
    "\n",
    "s_inc_jitrat = JitterRatio(s_inc_p)\n",
    "s_cer_jitrat = JitterRatio(s_cer_p)\n",
    "\n",
    "print (s_inc_jitrat)\n",
    "print (s_cer_jitrat)"
   ]
  },
  {
   "cell_type": "markdown",
   "metadata": {},
   "source": [
    "### Testes utilizando áudios de controle"
   ]
  },
  {
   "cell_type": "code",
   "execution_count": 24,
   "metadata": {},
   "outputs": [
    {
     "name": "stdout",
     "output_type": "stream",
     "text": [
      "train certeza e test certeza: -0.4995309988371823\n",
      "train certeza e test incerteza: -0.5077956511556376\n",
      "train incerteza e test certeza: -0.41520432653684036\n",
      "train incerteza e test incerteza: -0.4321655674860212\n"
     ]
    }
   ],
   "source": [
    " #y_cer_m1 = model1.predict(s_cer_jitrat) # retorna viterbi\n",
    "#y_inc_m1 = model1.predict(s_inc_jitrat)\n",
    "#y_cer_m2 = model2.predict(s_cer_jitrat) # retorna viterbi\n",
    "#y_inc_m2 = model2.predict(s_inc_jitrat)\n",
    "\n",
    "y_pred_cer_m1 = model1.score(s_cer_jitrat) # retorna a prob.\n",
    "y_pred_inc_m1 = model1.score(s_inc_jitrat) # retorna a prob.\n",
    "y_pred_cer_m2 = model2.score(s_cer_jitrat) # retorna a prob.\n",
    "y_pred_inc_m2 = model2.score(s_inc_jitrat) # retorna a prob.\n",
    "\n",
    "print ('train certeza e test certeza:', y_pred_cer_m1)\n",
    "print ('train certeza e test incerteza:', y_pred_inc_m1)\n",
    "print ('train incerteza e test certeza:', y_pred_cer_m2)\n",
    "print ('train incerteza e test incerteza:', y_pred_inc_m2)"
   ]
  },
  {
   "cell_type": "code",
   "execution_count": 14,
   "metadata": {},
   "outputs": [
    {
     "name": "stdout",
     "output_type": "stream",
     "text": [
      "Incerteza\n"
     ]
    }
   ],
   "source": [
    "if y_pred_inc_m2 >= -40:\n",
    "    print (\"Certeza\")\n",
    "else:\n",
    "    print (\"Incerteza\")"
   ]
  },
  {
   "cell_type": "markdown",
   "metadata": {
    "collapsed": true
   },
   "source": [
    "### Condição para a saída"
   ]
  },
  {
   "cell_type": "code",
   "execution_count": null,
   "metadata": {},
   "outputs": [],
   "source": []
  },
  {
   "cell_type": "code",
   "execution_count": null,
   "metadata": {},
   "outputs": [],
   "source": []
  },
  {
   "cell_type": "code",
   "execution_count": null,
   "metadata": {},
   "outputs": [],
   "source": []
  }
 ],
 "metadata": {
  "kernelspec": {
   "display_name": "Python 3",
   "language": "python",
   "name": "python3"
  },
  "language_info": {
   "codemirror_mode": {
    "name": "ipython",
    "version": 3
   },
   "file_extension": ".py",
   "mimetype": "text/x-python",
   "name": "python",
   "nbconvert_exporter": "python",
   "pygments_lexer": "ipython3",
   "version": "3.6.5"
  }
 },
 "nbformat": 4,
 "nbformat_minor": 2
}
